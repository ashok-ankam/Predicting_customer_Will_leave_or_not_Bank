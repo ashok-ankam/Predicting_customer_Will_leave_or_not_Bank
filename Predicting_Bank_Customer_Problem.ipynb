{
 "cells": [
  {
   "cell_type": "markdown",
   "metadata": {},
   "source": [
    "# Artificial Neural Network"
   ]
  },
  {
   "cell_type": "markdown",
   "metadata": {},
   "source": [
    "## Part 1 - Data Preprocessing\n"
   ]
  },
  {
   "cell_type": "code",
   "execution_count": 1,
   "metadata": {},
   "outputs": [],
   "source": [
    "# Importing the libraries\n",
    "import numpy as np\n",
    "import matplotlib.pyplot as plt\n",
    "import pandas as pd"
   ]
  },
  {
   "cell_type": "code",
   "execution_count": 2,
   "metadata": {},
   "outputs": [],
   "source": [
    "# Importing the dataset\n",
    "dataset = pd.read_csv('BankCustomers.csv')\n",
    "X = dataset.iloc[:, 3:13].values\n",
    "y = dataset.iloc[:, 13].values\n",
    "\n"
   ]
  },
  {
   "cell_type": "code",
   "execution_count": 3,
   "metadata": {},
   "outputs": [],
   "source": [
    "# convert categorical feature into dummy variables\n",
    "\n",
    "states=pd.get_dummies(dataset['Geography'],drop_first=True)\n",
    "gender=pd.get_dummies(dataset['Gender'],drop_first=True)"
   ]
  },
  {
   "cell_type": "code",
   "execution_count": 4,
   "metadata": {},
   "outputs": [],
   "source": [
    "\n",
    "#concatenate the remaining dummies columns\n",
    "dataset1=pd.concat([dataset,states,gender],axis=1)\n"
   ]
  },
  {
   "cell_type": "code",
   "execution_count": 5,
   "metadata": {},
   "outputs": [],
   "source": [
    "#drop the columns as it is no longer required\n",
    "\n",
    "dataset2=dataset1.drop(['Geography','Gender','Surname','CustomerId','RowNumber'],axis=1)\n"
   ]
  },
  {
   "cell_type": "code",
   "execution_count": 6,
   "metadata": {},
   "outputs": [
    {
     "data": {
      "text/html": [
       "<div>\n",
       "<style scoped>\n",
       "    .dataframe tbody tr th:only-of-type {\n",
       "        vertical-align: middle;\n",
       "    }\n",
       "\n",
       "    .dataframe tbody tr th {\n",
       "        vertical-align: top;\n",
       "    }\n",
       "\n",
       "    .dataframe thead th {\n",
       "        text-align: right;\n",
       "    }\n",
       "</style>\n",
       "<table border=\"1\" class=\"dataframe\">\n",
       "  <thead>\n",
       "    <tr style=\"text-align: right;\">\n",
       "      <th></th>\n",
       "      <th>CreditScore</th>\n",
       "      <th>Age</th>\n",
       "      <th>Tenure</th>\n",
       "      <th>Balance</th>\n",
       "      <th>NumOfProducts</th>\n",
       "      <th>HasCrCard</th>\n",
       "      <th>IsActiveMember</th>\n",
       "      <th>EstimatedSalary</th>\n",
       "      <th>Exited</th>\n",
       "      <th>Germany</th>\n",
       "      <th>Spain</th>\n",
       "      <th>Male</th>\n",
       "    </tr>\n",
       "  </thead>\n",
       "  <tbody>\n",
       "    <tr>\n",
       "      <th>0</th>\n",
       "      <td>619</td>\n",
       "      <td>42</td>\n",
       "      <td>2</td>\n",
       "      <td>0.00</td>\n",
       "      <td>1</td>\n",
       "      <td>1</td>\n",
       "      <td>1</td>\n",
       "      <td>101348.88</td>\n",
       "      <td>1</td>\n",
       "      <td>0</td>\n",
       "      <td>0</td>\n",
       "      <td>0</td>\n",
       "    </tr>\n",
       "    <tr>\n",
       "      <th>1</th>\n",
       "      <td>608</td>\n",
       "      <td>41</td>\n",
       "      <td>1</td>\n",
       "      <td>83807.86</td>\n",
       "      <td>1</td>\n",
       "      <td>0</td>\n",
       "      <td>1</td>\n",
       "      <td>112542.58</td>\n",
       "      <td>0</td>\n",
       "      <td>0</td>\n",
       "      <td>1</td>\n",
       "      <td>0</td>\n",
       "    </tr>\n",
       "    <tr>\n",
       "      <th>2</th>\n",
       "      <td>502</td>\n",
       "      <td>42</td>\n",
       "      <td>8</td>\n",
       "      <td>159660.80</td>\n",
       "      <td>3</td>\n",
       "      <td>1</td>\n",
       "      <td>0</td>\n",
       "      <td>113931.57</td>\n",
       "      <td>1</td>\n",
       "      <td>0</td>\n",
       "      <td>0</td>\n",
       "      <td>0</td>\n",
       "    </tr>\n",
       "    <tr>\n",
       "      <th>3</th>\n",
       "      <td>699</td>\n",
       "      <td>39</td>\n",
       "      <td>1</td>\n",
       "      <td>0.00</td>\n",
       "      <td>2</td>\n",
       "      <td>0</td>\n",
       "      <td>0</td>\n",
       "      <td>93826.63</td>\n",
       "      <td>0</td>\n",
       "      <td>0</td>\n",
       "      <td>0</td>\n",
       "      <td>0</td>\n",
       "    </tr>\n",
       "    <tr>\n",
       "      <th>4</th>\n",
       "      <td>850</td>\n",
       "      <td>43</td>\n",
       "      <td>2</td>\n",
       "      <td>125510.82</td>\n",
       "      <td>1</td>\n",
       "      <td>1</td>\n",
       "      <td>1</td>\n",
       "      <td>79084.10</td>\n",
       "      <td>0</td>\n",
       "      <td>0</td>\n",
       "      <td>1</td>\n",
       "      <td>0</td>\n",
       "    </tr>\n",
       "  </tbody>\n",
       "</table>\n",
       "</div>"
      ],
      "text/plain": [
       "   CreditScore  Age  Tenure    Balance  NumOfProducts  HasCrCard  \\\n",
       "0          619   42       2       0.00              1          1   \n",
       "1          608   41       1   83807.86              1          0   \n",
       "2          502   42       8  159660.80              3          1   \n",
       "3          699   39       1       0.00              2          0   \n",
       "4          850   43       2  125510.82              1          1   \n",
       "\n",
       "   IsActiveMember  EstimatedSalary  Exited  Germany  Spain  Male  \n",
       "0               1        101348.88       1        0      0     0  \n",
       "1               1        112542.58       0        0      1     0  \n",
       "2               0        113931.57       1        0      0     0  \n",
       "3               0         93826.63       0        0      0     0  \n",
       "4               1         79084.10       0        0      1     0  "
      ]
     },
     "execution_count": 6,
     "metadata": {},
     "output_type": "execute_result"
    }
   ],
   "source": [
    "dataset2.head()"
   ]
  },
  {
   "cell_type": "code",
   "execution_count": 7,
   "metadata": {},
   "outputs": [],
   "source": [
    "X=dataset2.drop(['Exited'],axis=1)\n",
    "y=dataset2['Exited']"
   ]
  },
  {
   "cell_type": "code",
   "execution_count": 8,
   "metadata": {},
   "outputs": [],
   "source": [
    "# Splitting the dataset into the Training set and Test set\n",
    "from sklearn.model_selection import train_test_split\n",
    "X_train, X_test, y_train, y_test = train_test_split(X, y, test_size = 0.2, random_state = 0)\n"
   ]
  },
  {
   "cell_type": "code",
   "execution_count": 9,
   "metadata": {},
   "outputs": [],
   "source": [
    "# Feature Scaling\n",
    "from sklearn.preprocessing import StandardScaler\n",
    "sc = StandardScaler()\n",
    "X_train = sc.fit_transform(X_train)\n",
    "X_test = sc.transform(X_test)"
   ]
  },
  {
   "cell_type": "markdown",
   "metadata": {},
   "source": [
    "# Part 2 - Now let's make the ANN!\n"
   ]
  },
  {
   "cell_type": "code",
   "execution_count": 10,
   "metadata": {},
   "outputs": [
    {
     "name": "stderr",
     "output_type": "stream",
     "text": [
      "Using TensorFlow backend.\n"
     ]
    }
   ],
   "source": [
    "# Importing the Keras libraries and packages\n",
    "import keras\n",
    "from keras.models import Sequential\n",
    "from keras.layers import Dense"
   ]
  },
  {
   "cell_type": "code",
   "execution_count": 11,
   "metadata": {},
   "outputs": [],
   "source": [
    "# Initialising the ANN\n",
    "classifier = Sequential()"
   ]
  },
  {
   "cell_type": "code",
   "execution_count": 12,
   "metadata": {},
   "outputs": [
    {
     "name": "stdout",
     "output_type": "stream",
     "text": [
      "WARNING:tensorflow:From C:\\Users\\kartik\\Anaconda3\\lib\\site-packages\\tensorflow\\python\\framework\\op_def_library.py:263: colocate_with (from tensorflow.python.framework.ops) is deprecated and will be removed in a future version.\n",
      "Instructions for updating:\n",
      "Colocations handled automatically by placer.\n"
     ]
    }
   ],
   "source": [
    "# Adding the input layer and the first hidden layer\n",
    "classifier.add(Dense(activation=\"relu\", input_dim=11, units=6, kernel_initializer=\"uniform\"))\n"
   ]
  },
  {
   "cell_type": "code",
   "execution_count": 13,
   "metadata": {},
   "outputs": [],
   "source": [
    "# Adding the second hidden layer\n",
    "classifier.add(Dense(activation=\"relu\", units=6, kernel_initializer=\"uniform\"))"
   ]
  },
  {
   "cell_type": "code",
   "execution_count": 14,
   "metadata": {},
   "outputs": [],
   "source": [
    "# Adding the output layer\n",
    "classifier.add(Dense(activation=\"sigmoid\", units=1, kernel_initializer=\"uniform\"))\n"
   ]
  },
  {
   "cell_type": "code",
   "execution_count": 15,
   "metadata": {},
   "outputs": [],
   "source": [
    "# Compiling the ANN\n",
    "classifier.compile(optimizer = 'adam', loss = 'binary_crossentropy', metrics = ['accuracy'])"
   ]
  },
  {
   "cell_type": "code",
   "execution_count": 16,
   "metadata": {},
   "outputs": [
    {
     "name": "stdout",
     "output_type": "stream",
     "text": [
      "_________________________________________________________________\n",
      "Layer (type)                 Output Shape              Param #   \n",
      "=================================================================\n",
      "dense_1 (Dense)              (None, 6)                 72        \n",
      "_________________________________________________________________\n",
      "dense_2 (Dense)              (None, 6)                 42        \n",
      "_________________________________________________________________\n",
      "dense_3 (Dense)              (None, 1)                 7         \n",
      "=================================================================\n",
      "Total params: 121\n",
      "Trainable params: 121\n",
      "Non-trainable params: 0\n",
      "_________________________________________________________________\n"
     ]
    }
   ],
   "source": [
    "classifier.summary()"
   ]
  },
  {
   "cell_type": "code",
   "execution_count": 17,
   "metadata": {},
   "outputs": [
    {
     "name": "stdout",
     "output_type": "stream",
     "text": [
      "WARNING:tensorflow:From C:\\Users\\kartik\\Anaconda3\\lib\\site-packages\\tensorflow\\python\\ops\\math_ops.py:3066: to_int32 (from tensorflow.python.ops.math_ops) is deprecated and will be removed in a future version.\n",
      "Instructions for updating:\n",
      "Use tf.cast instead.\n"
     ]
    },
    {
     "name": "stderr",
     "output_type": "stream",
     "text": [
      "C:\\Users\\kartik\\Anaconda3\\lib\\site-packages\\ipykernel_launcher.py:2: UserWarning: The `nb_epoch` argument in `fit` has been renamed `epochs`.\n",
      "  \n"
     ]
    },
    {
     "name": "stdout",
     "output_type": "stream",
     "text": [
      "Epoch 1/100\n",
      "8000/8000 [==============================] - 2s 234us/step - loss: 0.4915 - acc: 0.7952\n",
      "Epoch 2/100\n",
      "8000/8000 [==============================] - 1s 151us/step - loss: 0.4285 - acc: 0.7960\n",
      "Epoch 3/100\n",
      "8000/8000 [==============================] - 1s 136us/step - loss: 0.4232 - acc: 0.7960\n",
      "Epoch 4/100\n",
      "8000/8000 [==============================] - 1s 145us/step - loss: 0.4186 - acc: 0.8152\n",
      "Epoch 5/100\n",
      "8000/8000 [==============================] - 1s 137us/step - loss: 0.4163 - acc: 0.8279\n",
      "Epoch 6/100\n",
      "8000/8000 [==============================] - 1s 151us/step - loss: 0.4146 - acc: 0.8291\n",
      "Epoch 7/100\n",
      "8000/8000 [==============================] - 1s 135us/step - loss: 0.4135 - acc: 0.8302\n",
      "Epoch 8/100\n",
      "8000/8000 [==============================] - 1s 136us/step - loss: 0.4119 - acc: 0.8331\n",
      "Epoch 9/100\n",
      "8000/8000 [==============================] - 1s 145us/step - loss: 0.4106 - acc: 0.8332\n",
      "Epoch 10/100\n",
      "8000/8000 [==============================] - 1s 152us/step - loss: 0.4099 - acc: 0.8349\n",
      "Epoch 11/100\n",
      "8000/8000 [==============================] - 2s 192us/step - loss: 0.4094 - acc: 0.8344\n",
      "Epoch 12/100\n",
      "8000/8000 [==============================] - 1s 160us/step - loss: 0.4083 - acc: 0.8347\n",
      "Epoch 13/100\n",
      "8000/8000 [==============================] - 1s 163us/step - loss: 0.4083 - acc: 0.8347\n",
      "Epoch 14/100\n",
      "8000/8000 [==============================] - 1s 155us/step - loss: 0.4077 - acc: 0.8351\n",
      "Epoch 15/100\n",
      "8000/8000 [==============================] - 1s 170us/step - loss: 0.4068 - acc: 0.8360\n",
      "Epoch 16/100\n",
      "8000/8000 [==============================] - 1s 165us/step - loss: 0.4065 - acc: 0.8341\n",
      "Epoch 17/100\n",
      "8000/8000 [==============================] - 1s 183us/step - loss: 0.4059 - acc: 0.8349\n",
      "Epoch 18/100\n",
      "8000/8000 [==============================] - 1s 156us/step - loss: 0.4052 - acc: 0.8351\n",
      "Epoch 19/100\n",
      "8000/8000 [==============================] - 2s 192us/step - loss: 0.4053 - acc: 0.8354\n",
      "Epoch 20/100\n",
      "8000/8000 [==============================] - ETA: 0s - loss: 0.4047 - acc: 0.835 - 1s 167us/step - loss: 0.4047 - acc: 0.8351\n",
      "Epoch 21/100\n",
      "8000/8000 [==============================] - 2s 220us/step - loss: 0.4049 - acc: 0.8355\n",
      "Epoch 22/100\n",
      "8000/8000 [==============================] - 1s 152us/step - loss: 0.4041 - acc: 0.8352\n",
      "Epoch 23/100\n",
      "8000/8000 [==============================] - 1s 161us/step - loss: 0.4038 - acc: 0.8344\n",
      "Epoch 24/100\n",
      "8000/8000 [==============================] - 1s 148us/step - loss: 0.4036 - acc: 0.8341\n",
      "Epoch 25/100\n",
      "8000/8000 [==============================] - 1s 160us/step - loss: 0.4036 - acc: 0.8356\n",
      "Epoch 26/100\n",
      "8000/8000 [==============================] - 1s 146us/step - loss: 0.4030 - acc: 0.8334\n",
      "Epoch 27/100\n",
      "8000/8000 [==============================] - 1s 155us/step - loss: 0.4028 - acc: 0.8367\n",
      "Epoch 28/100\n",
      "8000/8000 [==============================] - 1s 139us/step - loss: 0.4030 - acc: 0.8339\n",
      "Epoch 29/100\n",
      "8000/8000 [==============================] - 1s 148us/step - loss: 0.4025 - acc: 0.8362\n",
      "Epoch 30/100\n",
      "8000/8000 [==============================] - 1s 142us/step - loss: 0.4023 - acc: 0.8356\n",
      "Epoch 31/100\n",
      "8000/8000 [==============================] - 1s 147us/step - loss: 0.4022 - acc: 0.8347\n",
      "Epoch 32/100\n",
      "8000/8000 [==============================] - 1s 145us/step - loss: 0.4021 - acc: 0.8357\n",
      "Epoch 33/100\n",
      "8000/8000 [==============================] - 1s 138us/step - loss: 0.4020 - acc: 0.8335\n",
      "Epoch 34/100\n",
      "8000/8000 [==============================] - 1s 148us/step - loss: 0.4018 - acc: 0.8361\n",
      "Epoch 35/100\n",
      "8000/8000 [==============================] - 1s 138us/step - loss: 0.4011 - acc: 0.8362\n",
      "Epoch 36/100\n",
      "8000/8000 [==============================] - 1s 153us/step - loss: 0.4013 - acc: 0.8356\n",
      "Epoch 37/100\n",
      "8000/8000 [==============================] - 1s 138us/step - loss: 0.4010 - acc: 0.8339\n",
      "Epoch 38/100\n",
      "8000/8000 [==============================] - 1s 147us/step - loss: 0.4017 - acc: 0.8357\n",
      "Epoch 39/100\n",
      "8000/8000 [==============================] - 1s 138us/step - loss: 0.4010 - acc: 0.8356\n",
      "Epoch 40/100\n",
      "8000/8000 [==============================] - 1s 138us/step - loss: 0.4006 - acc: 0.8357\n",
      "Epoch 41/100\n",
      "8000/8000 [==============================] - 1s 153us/step - loss: 0.4010 - acc: 0.8356\n",
      "Epoch 42/100\n",
      "8000/8000 [==============================] - 1s 138us/step - loss: 0.4004 - acc: 0.8352\n",
      "Epoch 43/100\n",
      "8000/8000 [==============================] - 1s 147us/step - loss: 0.4005 - acc: 0.8344\n",
      "Epoch 44/100\n",
      "8000/8000 [==============================] - 1s 138us/step - loss: 0.4008 - acc: 0.8360\n",
      "Epoch 45/100\n",
      "8000/8000 [==============================] - 1s 151us/step - loss: 0.4006 - acc: 0.8360\n",
      "Epoch 46/100\n",
      "8000/8000 [==============================] - 1s 139us/step - loss: 0.4002 - acc: 0.8361\n",
      "Epoch 47/100\n",
      "8000/8000 [==============================] - 1s 139us/step - loss: 0.4001 - acc: 0.8337\n",
      "Epoch 48/100\n",
      "8000/8000 [==============================] - 1s 145us/step - loss: 0.3997 - acc: 0.8360\n",
      "Epoch 49/100\n",
      "8000/8000 [==============================] - 1s 139us/step - loss: 0.4000 - acc: 0.8352\n",
      "Epoch 50/100\n",
      "8000/8000 [==============================] - 1s 152us/step - loss: 0.4000 - acc: 0.8367\n",
      "Epoch 51/100\n",
      "8000/8000 [==============================] - 1s 137us/step - loss: 0.3999 - acc: 0.8364\n",
      "Epoch 52/100\n",
      "8000/8000 [==============================] - 1s 146us/step - loss: 0.4004 - acc: 0.8370\n",
      "Epoch 53/100\n",
      "8000/8000 [==============================] - 1s 136us/step - loss: 0.3994 - acc: 0.8360\n",
      "Epoch 54/100\n",
      "8000/8000 [==============================] - 1s 136us/step - loss: 0.3997 - acc: 0.8366\n",
      "Epoch 55/100\n",
      "8000/8000 [==============================] - 1s 153us/step - loss: 0.3996 - acc: 0.8349\n",
      "Epoch 56/100\n",
      "8000/8000 [==============================] - 1s 142us/step - loss: 0.3997 - acc: 0.8360\n",
      "Epoch 57/100\n",
      "8000/8000 [==============================] - 1s 157us/step - loss: 0.3998 - acc: 0.8350\n",
      "Epoch 58/100\n",
      "8000/8000 [==============================] - 1s 138us/step - loss: 0.3992 - acc: 0.8356\n",
      "Epoch 59/100\n",
      "8000/8000 [==============================] - 1s 153us/step - loss: 0.3999 - acc: 0.8357\n",
      "Epoch 60/100\n",
      "8000/8000 [==============================] - 1s 142us/step - loss: 0.3998 - acc: 0.8360\n",
      "Epoch 61/100\n",
      "8000/8000 [==============================] - 1s 148us/step - loss: 0.3992 - acc: 0.8362\n",
      "Epoch 62/100\n",
      "8000/8000 [==============================] - 1s 137us/step - loss: 0.3992 - acc: 0.8364\n",
      "Epoch 63/100\n",
      "8000/8000 [==============================] - 1s 138us/step - loss: 0.3991 - acc: 0.8360\n",
      "Epoch 64/100\n",
      "8000/8000 [==============================] - 1s 157us/step - loss: 0.3993 - acc: 0.8364\n",
      "Epoch 65/100\n",
      "8000/8000 [==============================] - 1s 144us/step - loss: 0.3992 - acc: 0.8357\n",
      "Epoch 66/100\n",
      "8000/8000 [==============================] - 1s 148us/step - loss: 0.3990 - acc: 0.8337\n",
      "Epoch 67/100\n",
      "8000/8000 [==============================] - 1s 138us/step - loss: 0.3992 - acc: 0.8360\n",
      "Epoch 68/100\n",
      "8000/8000 [==============================] - 1s 146us/step - loss: 0.3984 - acc: 0.8365\n",
      "Epoch 69/100\n",
      "8000/8000 [==============================] - 1s 145us/step - loss: 0.3991 - acc: 0.8354\n",
      "Epoch 70/100\n",
      "8000/8000 [==============================] - 1s 144us/step - loss: 0.3984 - acc: 0.8355\n",
      "Epoch 71/100\n",
      "8000/8000 [==============================] - 1s 141us/step - loss: 0.3989 - acc: 0.8361\n",
      "Epoch 72/100\n",
      "8000/8000 [==============================] - 1s 138us/step - loss: 0.3992 - acc: 0.8352\n",
      "Epoch 73/100\n",
      "8000/8000 [==============================] - 1s 154us/step - loss: 0.3985 - acc: 0.8362\n",
      "Epoch 74/100\n",
      "8000/8000 [==============================] - 1s 139us/step - loss: 0.3991 - acc: 0.8354\n",
      "Epoch 75/100\n",
      "8000/8000 [==============================] - 1s 147us/step - loss: 0.3984 - acc: 0.8357\n",
      "Epoch 76/100\n",
      "8000/8000 [==============================] - 1s 143us/step - loss: 0.3984 - acc: 0.8350\n",
      "Epoch 77/100\n",
      "8000/8000 [==============================] - 1s 147us/step - loss: 0.3981 - acc: 0.8365\n",
      "Epoch 78/100\n",
      "8000/8000 [==============================] - 1s 181us/step - loss: 0.3979 - acc: 0.8374\n",
      "Epoch 79/100\n",
      "8000/8000 [==============================] - 1s 162us/step - loss: 0.3980 - acc: 0.8360\n",
      "Epoch 80/100\n",
      "8000/8000 [==============================] - 1s 181us/step - loss: 0.3982 - acc: 0.8355\n",
      "Epoch 81/100\n"
     ]
    },
    {
     "name": "stdout",
     "output_type": "stream",
     "text": [
      "8000/8000 [==============================] - 1s 147us/step - loss: 0.3988 - acc: 0.8359\n",
      "Epoch 82/100\n",
      "8000/8000 [==============================] - 1s 161us/step - loss: 0.3978 - acc: 0.8345\n",
      "Epoch 83/100\n",
      "8000/8000 [==============================] - 1s 151us/step - loss: 0.3979 - acc: 0.8359\n",
      "Epoch 84/100\n",
      "8000/8000 [==============================] - 1s 143us/step - loss: 0.3979 - acc: 0.8364\n",
      "Epoch 85/100\n",
      "8000/8000 [==============================] - 1s 150us/step - loss: 0.3980 - acc: 0.8371\n",
      "Epoch 86/100\n",
      "8000/8000 [==============================] - 1s 173us/step - loss: 0.3974 - acc: 0.8364\n",
      "Epoch 87/100\n",
      "8000/8000 [==============================] - 1s 143us/step - loss: 0.3981 - acc: 0.8345\n",
      "Epoch 88/100\n",
      "8000/8000 [==============================] - 1s 151us/step - loss: 0.3980 - acc: 0.8349\n",
      "Epoch 89/100\n",
      "8000/8000 [==============================] - 1s 144us/step - loss: 0.3976 - acc: 0.8354\n",
      "Epoch 90/100\n",
      "8000/8000 [==============================] - 1s 153us/step - loss: 0.3978 - acc: 0.8347\n",
      "Epoch 91/100\n",
      "8000/8000 [==============================] - 1s 155us/step - loss: 0.3978 - acc: 0.8337\n",
      "Epoch 92/100\n",
      "8000/8000 [==============================] - 1s 148us/step - loss: 0.3976 - acc: 0.8362\n",
      "Epoch 93/100\n",
      "8000/8000 [==============================] - 1s 136us/step - loss: 0.3978 - acc: 0.8362\n",
      "Epoch 94/100\n",
      "8000/8000 [==============================] - 1s 142us/step - loss: 0.3975 - acc: 0.8362\n",
      "Epoch 95/100\n",
      "8000/8000 [==============================] - 1s 155us/step - loss: 0.3974 - acc: 0.8360\n",
      "Epoch 96/100\n",
      "8000/8000 [==============================] - 1s 140us/step - loss: 0.3971 - acc: 0.8351\n",
      "Epoch 97/100\n",
      "8000/8000 [==============================] - 1s 152us/step - loss: 0.3971 - acc: 0.8372\n",
      "Epoch 98/100\n",
      "8000/8000 [==============================] - 1s 139us/step - loss: 0.3973 - acc: 0.8361\n",
      "Epoch 99/100\n",
      "8000/8000 [==============================] - 1s 166us/step - loss: 0.3976 - acc: 0.8355\n",
      "Epoch 100/100\n",
      "8000/8000 [==============================] - 1s 149us/step - loss: 0.3977 - acc: 0.8361\n"
     ]
    },
    {
     "data": {
      "text/plain": [
       "<keras.callbacks.History at 0x2629288e828>"
      ]
     },
     "execution_count": 17,
     "metadata": {},
     "output_type": "execute_result"
    }
   ],
   "source": [
    "# Fitting the ANN to the Training set\n",
    "classifier.fit(X_train, y_train, batch_size = 10, nb_epoch = 100)\n"
   ]
  },
  {
   "cell_type": "markdown",
   "metadata": {},
   "source": [
    "# Part 3 - Making the predictions and evaluating the model\n"
   ]
  },
  {
   "cell_type": "code",
   "execution_count": 38,
   "metadata": {},
   "outputs": [],
   "source": [
    "# Predicting the Test set results\n",
    "y_pred = classifier.predict(X_test)\n",
    "y_pred = (y_pred > 0.5)\n",
    "\n"
   ]
  },
  {
   "cell_type": "code",
   "execution_count": 37,
   "metadata": {},
   "outputs": [
    {
     "data": {
      "text/html": [
       "<div>\n",
       "<style scoped>\n",
       "    .dataframe tbody tr th:only-of-type {\n",
       "        vertical-align: middle;\n",
       "    }\n",
       "\n",
       "    .dataframe tbody tr th {\n",
       "        vertical-align: top;\n",
       "    }\n",
       "\n",
       "    .dataframe thead th {\n",
       "        text-align: right;\n",
       "    }\n",
       "</style>\n",
       "<table border=\"1\" class=\"dataframe\">\n",
       "  <thead>\n",
       "    <tr style=\"text-align: right;\">\n",
       "      <th></th>\n",
       "      <th>CreditScore</th>\n",
       "      <th>Age</th>\n",
       "      <th>Tenure</th>\n",
       "      <th>Balance</th>\n",
       "      <th>NumOfProducts</th>\n",
       "      <th>HasCrCard</th>\n",
       "      <th>IsActiveMember</th>\n",
       "      <th>EstimatedSalary</th>\n",
       "      <th>Exited</th>\n",
       "      <th>Germany</th>\n",
       "      <th>Spain</th>\n",
       "      <th>Male</th>\n",
       "    </tr>\n",
       "  </thead>\n",
       "  <tbody>\n",
       "    <tr>\n",
       "      <th>0</th>\n",
       "      <td>619</td>\n",
       "      <td>42</td>\n",
       "      <td>2</td>\n",
       "      <td>0.00</td>\n",
       "      <td>1</td>\n",
       "      <td>1</td>\n",
       "      <td>1</td>\n",
       "      <td>101348.88</td>\n",
       "      <td>1</td>\n",
       "      <td>0</td>\n",
       "      <td>0</td>\n",
       "      <td>0</td>\n",
       "    </tr>\n",
       "    <tr>\n",
       "      <th>1</th>\n",
       "      <td>608</td>\n",
       "      <td>41</td>\n",
       "      <td>1</td>\n",
       "      <td>83807.86</td>\n",
       "      <td>1</td>\n",
       "      <td>0</td>\n",
       "      <td>1</td>\n",
       "      <td>112542.58</td>\n",
       "      <td>0</td>\n",
       "      <td>0</td>\n",
       "      <td>1</td>\n",
       "      <td>0</td>\n",
       "    </tr>\n",
       "    <tr>\n",
       "      <th>2</th>\n",
       "      <td>502</td>\n",
       "      <td>42</td>\n",
       "      <td>8</td>\n",
       "      <td>159660.80</td>\n",
       "      <td>3</td>\n",
       "      <td>1</td>\n",
       "      <td>0</td>\n",
       "      <td>113931.57</td>\n",
       "      <td>1</td>\n",
       "      <td>0</td>\n",
       "      <td>0</td>\n",
       "      <td>0</td>\n",
       "    </tr>\n",
       "    <tr>\n",
       "      <th>3</th>\n",
       "      <td>699</td>\n",
       "      <td>39</td>\n",
       "      <td>1</td>\n",
       "      <td>0.00</td>\n",
       "      <td>2</td>\n",
       "      <td>0</td>\n",
       "      <td>0</td>\n",
       "      <td>93826.63</td>\n",
       "      <td>0</td>\n",
       "      <td>0</td>\n",
       "      <td>0</td>\n",
       "      <td>0</td>\n",
       "    </tr>\n",
       "    <tr>\n",
       "      <th>4</th>\n",
       "      <td>850</td>\n",
       "      <td>43</td>\n",
       "      <td>2</td>\n",
       "      <td>125510.82</td>\n",
       "      <td>1</td>\n",
       "      <td>1</td>\n",
       "      <td>1</td>\n",
       "      <td>79084.10</td>\n",
       "      <td>0</td>\n",
       "      <td>0</td>\n",
       "      <td>1</td>\n",
       "      <td>0</td>\n",
       "    </tr>\n",
       "  </tbody>\n",
       "</table>\n",
       "</div>"
      ],
      "text/plain": [
       "   CreditScore  Age  Tenure    Balance  NumOfProducts  HasCrCard  \\\n",
       "0          619   42       2       0.00              1          1   \n",
       "1          608   41       1   83807.86              1          0   \n",
       "2          502   42       8  159660.80              3          1   \n",
       "3          699   39       1       0.00              2          0   \n",
       "4          850   43       2  125510.82              1          1   \n",
       "\n",
       "   IsActiveMember  EstimatedSalary  Exited  Germany  Spain  Male  \n",
       "0               1        101348.88       1        0      0     0  \n",
       "1               1        112542.58       0        0      1     0  \n",
       "2               0        113931.57       1        0      0     0  \n",
       "3               0         93826.63       0        0      0     0  \n",
       "4               1         79084.10       0        0      1     0  "
      ]
     },
     "execution_count": 37,
     "metadata": {},
     "output_type": "execute_result"
    }
   ],
   "source": [
    "dataset2.head()"
   ]
  },
  {
   "cell_type": "code",
   "execution_count": 20,
   "metadata": {},
   "outputs": [],
   "source": [
    "# Making the Confusion Matrix\n",
    "from sklearn.metrics import confusion_matrix,accuracy_score\n",
    "cm = confusion_matrix(y_test, y_pred)\n",
    "accuracy=accuracy_score(y_test,y_pred)"
   ]
  },
  {
   "cell_type": "code",
   "execution_count": 23,
   "metadata": {},
   "outputs": [
    {
     "data": {
      "text/plain": [
       "0.845"
      ]
     },
     "execution_count": 23,
     "metadata": {},
     "output_type": "execute_result"
    }
   ],
   "source": [
    "\n",
    "accuracy"
   ]
  },
  {
   "cell_type": "code",
   "execution_count": 24,
   "metadata": {},
   "outputs": [
    {
     "data": {
      "text/plain": [
       "array([[1542,   53],\n",
       "       [ 257,  148]], dtype=int64)"
      ]
     },
     "execution_count": 24,
     "metadata": {},
     "output_type": "execute_result"
    }
   ],
   "source": [
    "cm"
   ]
  },
  {
   "cell_type": "code",
   "execution_count": 26,
   "metadata": {},
   "outputs": [
    {
     "name": "stdout",
     "output_type": "stream",
     "text": [
      "              precision    recall  f1-score   support\n",
      "\n",
      "           0       0.86      0.97      0.91      1595\n",
      "           1       0.74      0.37      0.49       405\n",
      "\n",
      "    accuracy                           0.84      2000\n",
      "   macro avg       0.80      0.67      0.70      2000\n",
      "weighted avg       0.83      0.84      0.82      2000\n",
      "\n"
     ]
    }
   ],
   "source": [
    "from sklearn.metrics import classification_report\n",
    "print(classification_report(y_test,y_pred))"
   ]
  },
  {
   "cell_type": "code",
   "execution_count": null,
   "metadata": {},
   "outputs": [],
   "source": []
  }
 ],
 "metadata": {
  "kernelspec": {
   "display_name": "Python 3",
   "language": "python",
   "name": "python3"
  },
  "language_info": {
   "codemirror_mode": {
    "name": "ipython",
    "version": 3
   },
   "file_extension": ".py",
   "mimetype": "text/x-python",
   "name": "python",
   "nbconvert_exporter": "python",
   "pygments_lexer": "ipython3",
   "version": "3.7.3"
  }
 },
 "nbformat": 4,
 "nbformat_minor": 2
}
